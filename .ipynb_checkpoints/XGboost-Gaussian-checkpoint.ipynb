{
 "cells": [
  {
   "cell_type": "code",
   "execution_count": null,
   "id": "78c1c2af-addf-4421-b378-c2bf465cce8f",
   "metadata": {},
   "outputs": [],
   "source": [
    "import pandas as pd\n",
    "import numpy as np\n",
    "import matplotlib.pyplot as plt\n",
    "\n",
    "dataset = pd.read_csv(\"Gait1.csv\")\n",
    "columns_to_analyze = ['AL-X', 'AL-Y', 'AL-Z', 'AG-X', 'AG-Y', 'AG-Z', 'Gravity-X', 'Gravity-Y', 'Gravity-Z', 'RR-X', 'RR-Y', 'RR-Z', 'RV-X', 'RV-Y', 'RV-Z']\n",
    "dataset"
   ]
  },
  {
   "cell_type": "code",
   "execution_count": null,
   "id": "597b5095-33e8-4f44-87a1-9bf2cb45d92d",
   "metadata": {},
   "outputs": [],
   "source": [
    "from scipy.ndimage import gaussian_filter\n",
    "\n",
    "dataset_to_denoise = dataset[columns_to_analyze]\n",
    "sigma = 1\n",
    "denoised_dataset_array = dataset_to_denoise.copy().to_numpy()\n",
    "for i, column_name in enumerate(columns_to_analyze):\n",
    "    denoised_dataset_array[:, i] = gaussian_filter(dataset_to_denoise[column_name].to_numpy(), sigma=sigma)\n",
    "denoised_dataset = dataset.copy()\n",
    "denoised_dataset[columns_to_analyze] = denoised_dataset_array\n",
    "denoised_dataset\n",
    "for column_name in columns_to_analyze:\n",
    "    plt.figure(figsize=(8, 4))\n",
    "    plt.plot(dataset[column_name], label=f\"Noisy {column_name}\")\n",
    "    plt.plot(denoised_dataset[column_name], label=f\"Denoised {column_name}\")\n",
    "    plt.title(f\"Noisy vs. Denoised {column_name}\")\n",
    "    plt.xlabel(\"Time\")\n",
    "    plt.ylabel(\"Value\")\n",
    "    plt.legend()\n",
    "    plt.grid(True)\n",
    "    plt.show()"
   ]
  },
  {
   "cell_type": "code",
   "execution_count": null,
   "id": "f2925664-c99d-4d74-90ff-9dc39ea276d7",
   "metadata": {},
   "outputs": [],
   "source": [
    "from sklearn.ensemble import IsolationForest\n",
    "\n",
    "dataset_to_analyze = dataset[columns_to_analyze]\n",
    "isolation_forest = IsolationForest(contamination=0.05)\n",
    "isolation_forest.fit(dataset_to_analyze)\n",
    "outlier_scores = isolation_forest.score_samples(dataset_to_analyze)\n",
    "threshold = np.percentile(outlier_scores, 100 * 0.05)\n",
    "plt.figure(figsize=(8, 4))\n",
    "plt.plot(outlier_scores, marker='o', linestyle='', label='Outlier Score')\n",
    "plt.axhline(y=threshold, color='r', linestyle='--', label='Threshold')\n",
    "plt.title(\"Isolation Forest Outlier Detection\")\n",
    "plt.xlabel(\"Sample\")\n",
    "plt.ylabel(\"Outlier Score\")\n",
    "plt.legend()\n",
    "plt.grid(True)\n",
    "plt.show()\n",
    "potential_outliers_indices = np.where(outlier_scores < threshold)\n",
    "print(\"Indices of potential outliers:\", potential_outliers_indices)\n",
    "dataset_cleaned = dataset.drop(dataset.index[potential_outliers_indices])"
   ]
  },
  {
   "cell_type": "code",
   "execution_count": null,
   "id": "2de67c0f-6f38-436d-9289-a5b8455e5c55",
   "metadata": {},
   "outputs": [],
   "source": [
    "X = dataset_cleaned.drop(['User'], axis=1)\n",
    "y = dataset_cleaned.select_dtypes(include=[int])\n",
    "y.User.unique()"
   ]
  },
  {
   "cell_type": "code",
   "execution_count": null,
   "id": "e676a865-3d3f-4569-a325-8bccf6e0d643",
   "metadata": {},
   "outputs": [],
   "source": [
    "from sklearn import preprocessing\n",
    "le = preprocessing.LabelEncoder()\n",
    "y = y.apply(le.fit_transform)\n",
    "y"
   ]
  },
  {
   "cell_type": "code",
   "execution_count": null,
   "id": "ef5b828f-a075-4e30-84ea-bec735ae83d5",
   "metadata": {},
   "outputs": [],
   "source": [
    "from sklearn.model_selection import train_test_split\n",
    "X_train, X_test, y_train, y_test = train_test_split(X, y, test_size = 0.20)"
   ]
  },
  {
   "cell_type": "code",
   "execution_count": null,
   "id": "810cd236-cbc0-4864-8f68-7042934e7cb7",
   "metadata": {},
   "outputs": [],
   "source": [
    "from sklearn.preprocessing import StandardScaler\n",
    "sc = StandardScaler()\n",
    "X_train = sc.fit_transform(X_train)\n",
    "X_test = sc.transform(X_test)"
   ]
  },
  {
   "cell_type": "code",
   "execution_count": null,
   "id": "b68d2b5a-0fcf-427f-a3a1-fac8fcec88b3",
   "metadata": {},
   "outputs": [],
   "source": [
    "from xgboost import XGBClassifier\n",
    "from sklearn.ensemble import GradientBoostingClassifier\n",
    "from sklearn.metrics import classification_report, accuracy_score, confusion_matrix, ConfusionMatrixDisplay\n",
    "import time\n",
    "time_start = time.perf_counter()\n",
    "xgb = XGBClassifier()\n",
    "xgb.fit(X_train, y_train.values.ravel())\n",
    "time_elapsed = (time.perf_counter() - time_start)\n",
    "time_elapsed"
   ]
  },
  {
   "cell_type": "code",
   "execution_count": null,
   "id": "76e1e953-9d32-4d1e-9b56-917340ea32e8",
   "metadata": {},
   "outputs": [],
   "source": [
    "y_pred = xgb.predict(X_test)\n",
    "print(confusion_matrix(y_test, y_pred))\n",
    "report=classification_report(y_test, y_pred)\n",
    "print(classification_report(y_test, y_pred))\n",
    "accuracy = accuracy_score(y_test, y_pred)*100\n",
    "accuracy"
   ]
  },
  {
   "cell_type": "code",
   "execution_count": null,
   "id": "08140073-d503-41db-9015-fefbc610f603",
   "metadata": {},
   "outputs": [],
   "source": [
    "from sklearn.model_selection import cross_validate\n",
    "cv = cross_validate(xgb, X_train, y_train.values.ravel(), cv=5, return_train_score=True)\n",
    "print(cv['test_score'])\n",
    "print(cv['test_score'].mean())"
   ]
  },
  {
   "cell_type": "code",
   "execution_count": null,
   "id": "13bff215-e25d-4e1a-a28d-ee113d0ff079",
   "metadata": {},
   "outputs": [],
   "source": [
    "import matplotlib.pyplot as plt\n",
    "plt.figure(figsize=(12,6))\n",
    "labels = [\"1st Fold\", \"2nd Fold\", \"3rd Fold\", \"4th Fold\", \"5th Fold\"]\n",
    "X_axis = np.arange(len(labels))\n",
    "ax = plt.gca()\n",
    "plt.ylim(0.40000, 1)\n",
    "plt.bar(X_axis-0.2, cv['train_score'], 0.4, color='blue', label='Training')\n",
    "plt.bar(X_axis+0.2, cv['test_score'], 0.4, color='red', label='Validation')\n",
    "plt.title(\"Accuracy scores in 5 Folds\", fontsize=30)\n",
    "plt.xticks(X_axis, labels)\n",
    "plt.xlabel(\"Extreme Gradient Boost - Gaussian\", fontsize=14)\n",
    "plt.ylabel(\"Accuracy\", fontsize=14)\n",
    "plt.legend()\n",
    "plt.grid(True)\n",
    "plt.show()"
   ]
  },
  {
   "cell_type": "code",
   "execution_count": null,
   "id": "36da5cfe-7dd7-4a14-81b6-d6ff1cb64b1f",
   "metadata": {},
   "outputs": [],
   "source": []
  }
 ],
 "metadata": {
  "kernelspec": {
   "display_name": "Python 3 (ipykernel)",
   "language": "python",
   "name": "python3"
  },
  "language_info": {
   "codemirror_mode": {
    "name": "ipython",
    "version": 3
   },
   "file_extension": ".py",
   "mimetype": "text/x-python",
   "name": "python",
   "nbconvert_exporter": "python",
   "pygments_lexer": "ipython3",
   "version": "3.9.6"
  }
 },
 "nbformat": 4,
 "nbformat_minor": 5
}
